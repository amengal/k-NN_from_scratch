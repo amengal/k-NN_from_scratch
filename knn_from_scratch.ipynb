{
 "cells": [
  {
   "cell_type": "markdown",
   "id": "9adc1431-2511-4ce3-8da9-1e913caf8892",
   "metadata": {},
   "source": [
    "# Implementing a From-Scratch K-Nearest Neighbors Algorithm for Binary Classification\n"
   ]
  },
  {
   "cell_type": "markdown",
   "id": "e43aaddc-f547-4996-9e86-bb939e5b599e",
   "metadata": {},
   "source": [
    "### The task of the project is to predict whether a customer will subscribe to a term deposit or not\n",
    "### The data is taken from the following source: https://archive.ics.uci.edu/dataset/222/bank+marketing\n",
    "### The dataset that we will use contains 20 variables and 4119 samples"
   ]
  },
  {
   "cell_type": "code",
   "execution_count": 7,
   "id": "7701851d-0281-4660-b0b9-3a9e88af9f24",
   "metadata": {},
   "outputs": [],
   "source": [
    "import pandas as pd"
   ]
  },
  {
   "cell_type": "code",
   "execution_count": 8,
   "id": "b5509f77-0442-493a-a947-50f97d4aa6c5",
   "metadata": {},
   "outputs": [],
   "source": [
    "df = pd.read_csv ('bank-additional.csv', delimiter= ';')"
   ]
  },
  {
   "cell_type": "markdown",
   "id": "9b8ae773-7ebd-4c64-b4c7-328e0edbc1e0",
   "metadata": {},
   "source": [
    "### Check for missing values"
   ]
  },
  {
   "cell_type": "code",
   "execution_count": 9,
   "id": "6098bd1e-a3bb-4690-bd5f-6576ec33f4ec",
   "metadata": {},
   "outputs": [
    {
     "data": {
      "text/plain": [
       "age               False\n",
       "job               False\n",
       "marital           False\n",
       "education         False\n",
       "default           False\n",
       "housing           False\n",
       "loan              False\n",
       "contact           False\n",
       "month             False\n",
       "day_of_week       False\n",
       "duration          False\n",
       "campaign          False\n",
       "pdays             False\n",
       "previous          False\n",
       "poutcome          False\n",
       "emp.var.rate      False\n",
       "cons.price.idx    False\n",
       "cons.conf.idx     False\n",
       "euribor3m         False\n",
       "nr.employed       False\n",
       "y                 False\n",
       "dtype: bool"
      ]
     },
     "execution_count": 9,
     "metadata": {},
     "output_type": "execute_result"
    }
   ],
   "source": [
    "df.isnull().any()"
   ]
  },
  {
   "cell_type": "markdown",
   "id": "898bf6bc-5adc-459d-8955-ffe5e2f45ed2",
   "metadata": {},
   "source": [
    "### Split dataset into input and target data"
   ]
  },
  {
   "cell_type": "code",
   "execution_count": 10,
   "id": "33b7ee96-f339-448f-897a-956cebddf430",
   "metadata": {},
   "outputs": [],
   "source": [
    "X = df.iloc[: , :15]\n",
    "y = df.iloc[: , -1]"
   ]
  },
  {
   "cell_type": "markdown",
   "id": "e234e55d-27ac-43bd-8726-abc92557f697",
   "metadata": {},
   "source": [
    "### One-hot Encoding for Categorical Variables"
   ]
  },
  {
   "cell_type": "code",
   "execution_count": 11,
   "id": "011606cb-2e34-4a40-8862-119e0858125d",
   "metadata": {},
   "outputs": [],
   "source": [
    "X = pd.get_dummies(X)"
   ]
  },
  {
   "cell_type": "markdown",
   "id": "5c761ca7-f7b3-44b6-98d0-3c27f55a0ab0",
   "metadata": {},
   "source": [
    "### Train Test Split"
   ]
  },
  {
   "cell_type": "code",
   "execution_count": 12,
   "id": "bb0b2cc4-bba3-4ba2-94c8-3fe128e68466",
   "metadata": {},
   "outputs": [],
   "source": [
    "from sklearn.model_selection import train_test_split"
   ]
  },
  {
   "cell_type": "code",
   "execution_count": 13,
   "id": "9e349380-0b03-4614-a80a-e27f2a09e72e",
   "metadata": {},
   "outputs": [],
   "source": [
    "X_train, X_test, y_train, y_test = train_test_split (X, y, test_size=0.2, random_state = 1)"
   ]
  },
  {
   "cell_type": "markdown",
   "id": "4c2aecc2-86ec-4304-98c2-78c724153957",
   "metadata": {},
   "source": [
    "## Implement K-Nearest Neighbors From Scratch"
   ]
  },
  {
   "cell_type": "code",
   "execution_count": 44,
   "id": "61c469f5-4101-418a-80e6-58a9ca0f1c48",
   "metadata": {},
   "outputs": [],
   "source": [
    "from sklearn.base import BaseEstimator, ClassifierMixin\n",
    "from collections import Counter\n",
    "import numpy as np\n",
    "\n",
    "class knn_fs(BaseEstimator, ClassifierMixin):\n",
    "    def __init__(self, n_neighbors=1, metric='euclidean'):\n",
    "        self.n_neighbors = n_neighbors\n",
    "        self.metric = metric\n",
    "\n",
    "    def fit(self, X, y):\n",
    "        self.X_train = X\n",
    "        self.y_train = y\n",
    "\n",
    "    def get_dist(self, a, b):\n",
    "        if self.metric == 'euclidean':\n",
    "            dist = np.linalg.norm(np.array(a) - np.array(b))\n",
    "        elif self.metric == 'manhattan':\n",
    "            dist = np.sum(np.abs(np.array(a) - np.array(b)))\n",
    "        else:\n",
    "            raise ValueError('Please input a valid metric type')\n",
    "        return dist\n",
    "\n",
    "    def get_n_nearest(self, example):\n",
    "        distances = []\n",
    "        for i in range(len(self.X_train)):\n",
    "            dist = self.get_dist(example, self.X_train[i])\n",
    "            distances.append((i, dist))\n",
    "        distances.sort(key=lambda x: x[1])\n",
    "        return distances[1:self.n_neighbors]  # Get the top n neighbors\n",
    "\n",
    "    def predict(self, X_test):\n",
    "        predictions = []\n",
    "        for i in range(len(X_test)):\n",
    "            neighbors = self.get_n_nearest(X_test[i])\n",
    "            classes = [self.y_train[pair[0]] for pair in neighbors]\n",
    "            prediction = Counter(classes).most_common(1)[0][0]\n",
    "            predictions.append(prediction)\n",
    "        return predictions"
   ]
  },
  {
   "cell_type": "markdown",
   "id": "be65abcf-6b7f-4130-8209-9d4df62b84ad",
   "metadata": {},
   "source": [
    "### Import Built-in k-NN from Scikit-Learn for Comparison"
   ]
  },
  {
   "cell_type": "code",
   "execution_count": 17,
   "id": "cd8e391b-ab31-490a-b87c-acb9b3ca1581",
   "metadata": {},
   "outputs": [],
   "source": [
    "from sklearn.neighbors import KNeighborsClassifier"
   ]
  },
  {
   "cell_type": "code",
   "execution_count": 18,
   "id": "e170164a-a602-4141-bd00-699fbd820ed1",
   "metadata": {},
   "outputs": [],
   "source": [
    "knn = KNeighborsClassifier()"
   ]
  },
  {
   "cell_type": "markdown",
   "id": "d3aa545e-bff9-4a70-a98d-dfcaf463d5c5",
   "metadata": {},
   "source": [
    "### Find Best Parameters"
   ]
  },
  {
   "cell_type": "code",
   "execution_count": 19,
   "id": "bb93b76b-199a-470d-a2ab-613135a18fb5",
   "metadata": {},
   "outputs": [],
   "source": [
    "from sklearn.model_selection import GridSearchCV"
   ]
  },
  {
   "cell_type": "code",
   "execution_count": 20,
   "id": "509c29fe-88df-4056-bd96-5c7b38b83877",
   "metadata": {},
   "outputs": [],
   "source": [
    "param_grid = {'n_neighbors': list (range(1, 20)), 'metric': ['euclidean', 'manhattan']}"
   ]
  },
  {
   "cell_type": "code",
   "execution_count": 21,
   "id": "bdf5d074-bfcc-4d46-8395-ec9998603a8f",
   "metadata": {},
   "outputs": [],
   "source": [
    "grid = GridSearchCV (knn, param_grid, cv=5, scoring='accuracy')"
   ]
  },
  {
   "cell_type": "code",
   "execution_count": 22,
   "id": "895bd6c8-35ab-469d-bdd8-7eb12b2324cb",
   "metadata": {},
   "outputs": [
    {
     "data": {
      "text/html": [
       "<style>#sk-container-id-1 {color: black;background-color: white;}#sk-container-id-1 pre{padding: 0;}#sk-container-id-1 div.sk-toggleable {background-color: white;}#sk-container-id-1 label.sk-toggleable__label {cursor: pointer;display: block;width: 100%;margin-bottom: 0;padding: 0.3em;box-sizing: border-box;text-align: center;}#sk-container-id-1 label.sk-toggleable__label-arrow:before {content: \"▸\";float: left;margin-right: 0.25em;color: #696969;}#sk-container-id-1 label.sk-toggleable__label-arrow:hover:before {color: black;}#sk-container-id-1 div.sk-estimator:hover label.sk-toggleable__label-arrow:before {color: black;}#sk-container-id-1 div.sk-toggleable__content {max-height: 0;max-width: 0;overflow: hidden;text-align: left;background-color: #f0f8ff;}#sk-container-id-1 div.sk-toggleable__content pre {margin: 0.2em;color: black;border-radius: 0.25em;background-color: #f0f8ff;}#sk-container-id-1 input.sk-toggleable__control:checked~div.sk-toggleable__content {max-height: 200px;max-width: 100%;overflow: auto;}#sk-container-id-1 input.sk-toggleable__control:checked~label.sk-toggleable__label-arrow:before {content: \"▾\";}#sk-container-id-1 div.sk-estimator input.sk-toggleable__control:checked~label.sk-toggleable__label {background-color: #d4ebff;}#sk-container-id-1 div.sk-label input.sk-toggleable__control:checked~label.sk-toggleable__label {background-color: #d4ebff;}#sk-container-id-1 input.sk-hidden--visually {border: 0;clip: rect(1px 1px 1px 1px);clip: rect(1px, 1px, 1px, 1px);height: 1px;margin: -1px;overflow: hidden;padding: 0;position: absolute;width: 1px;}#sk-container-id-1 div.sk-estimator {font-family: monospace;background-color: #f0f8ff;border: 1px dotted black;border-radius: 0.25em;box-sizing: border-box;margin-bottom: 0.5em;}#sk-container-id-1 div.sk-estimator:hover {background-color: #d4ebff;}#sk-container-id-1 div.sk-parallel-item::after {content: \"\";width: 100%;border-bottom: 1px solid gray;flex-grow: 1;}#sk-container-id-1 div.sk-label:hover label.sk-toggleable__label {background-color: #d4ebff;}#sk-container-id-1 div.sk-serial::before {content: \"\";position: absolute;border-left: 1px solid gray;box-sizing: border-box;top: 0;bottom: 0;left: 50%;z-index: 0;}#sk-container-id-1 div.sk-serial {display: flex;flex-direction: column;align-items: center;background-color: white;padding-right: 0.2em;padding-left: 0.2em;position: relative;}#sk-container-id-1 div.sk-item {position: relative;z-index: 1;}#sk-container-id-1 div.sk-parallel {display: flex;align-items: stretch;justify-content: center;background-color: white;position: relative;}#sk-container-id-1 div.sk-item::before, #sk-container-id-1 div.sk-parallel-item::before {content: \"\";position: absolute;border-left: 1px solid gray;box-sizing: border-box;top: 0;bottom: 0;left: 50%;z-index: -1;}#sk-container-id-1 div.sk-parallel-item {display: flex;flex-direction: column;z-index: 1;position: relative;background-color: white;}#sk-container-id-1 div.sk-parallel-item:first-child::after {align-self: flex-end;width: 50%;}#sk-container-id-1 div.sk-parallel-item:last-child::after {align-self: flex-start;width: 50%;}#sk-container-id-1 div.sk-parallel-item:only-child::after {width: 0;}#sk-container-id-1 div.sk-dashed-wrapped {border: 1px dashed gray;margin: 0 0.4em 0.5em 0.4em;box-sizing: border-box;padding-bottom: 0.4em;background-color: white;}#sk-container-id-1 div.sk-label label {font-family: monospace;font-weight: bold;display: inline-block;line-height: 1.2em;}#sk-container-id-1 div.sk-label-container {text-align: center;}#sk-container-id-1 div.sk-container {/* jupyter's `normalize.less` sets `[hidden] { display: none; }` but bootstrap.min.css set `[hidden] { display: none !important; }` so we also need the `!important` here to be able to override the default hidden behavior on the sphinx rendered scikit-learn.org. See: https://github.com/scikit-learn/scikit-learn/issues/21755 */display: inline-block !important;position: relative;}#sk-container-id-1 div.sk-text-repr-fallback {display: none;}</style><div id=\"sk-container-id-1\" class=\"sk-top-container\"><div class=\"sk-text-repr-fallback\"><pre>GridSearchCV(cv=5, estimator=KNeighborsClassifier(),\n",
       "             param_grid={&#x27;metric&#x27;: [&#x27;euclidean&#x27;, &#x27;manhattan&#x27;],\n",
       "                         &#x27;n_neighbors&#x27;: [1, 2, 3, 4, 5, 6, 7, 8, 9, 10, 11, 12,\n",
       "                                         13, 14, 15, 16, 17, 18, 19]},\n",
       "             scoring=&#x27;accuracy&#x27;)</pre><b>In a Jupyter environment, please rerun this cell to show the HTML representation or trust the notebook. <br />On GitHub, the HTML representation is unable to render, please try loading this page with nbviewer.org.</b></div><div class=\"sk-container\" hidden><div class=\"sk-item sk-dashed-wrapped\"><div class=\"sk-label-container\"><div class=\"sk-label sk-toggleable\"><input class=\"sk-toggleable__control sk-hidden--visually\" id=\"sk-estimator-id-1\" type=\"checkbox\" ><label for=\"sk-estimator-id-1\" class=\"sk-toggleable__label sk-toggleable__label-arrow\">GridSearchCV</label><div class=\"sk-toggleable__content\"><pre>GridSearchCV(cv=5, estimator=KNeighborsClassifier(),\n",
       "             param_grid={&#x27;metric&#x27;: [&#x27;euclidean&#x27;, &#x27;manhattan&#x27;],\n",
       "                         &#x27;n_neighbors&#x27;: [1, 2, 3, 4, 5, 6, 7, 8, 9, 10, 11, 12,\n",
       "                                         13, 14, 15, 16, 17, 18, 19]},\n",
       "             scoring=&#x27;accuracy&#x27;)</pre></div></div></div><div class=\"sk-parallel\"><div class=\"sk-parallel-item\"><div class=\"sk-item\"><div class=\"sk-label-container\"><div class=\"sk-label sk-toggleable\"><input class=\"sk-toggleable__control sk-hidden--visually\" id=\"sk-estimator-id-2\" type=\"checkbox\" ><label for=\"sk-estimator-id-2\" class=\"sk-toggleable__label sk-toggleable__label-arrow\">estimator: KNeighborsClassifier</label><div class=\"sk-toggleable__content\"><pre>KNeighborsClassifier()</pre></div></div></div><div class=\"sk-serial\"><div class=\"sk-item\"><div class=\"sk-estimator sk-toggleable\"><input class=\"sk-toggleable__control sk-hidden--visually\" id=\"sk-estimator-id-3\" type=\"checkbox\" ><label for=\"sk-estimator-id-3\" class=\"sk-toggleable__label sk-toggleable__label-arrow\">KNeighborsClassifier</label><div class=\"sk-toggleable__content\"><pre>KNeighborsClassifier()</pre></div></div></div></div></div></div></div></div></div></div>"
      ],
      "text/plain": [
       "GridSearchCV(cv=5, estimator=KNeighborsClassifier(),\n",
       "             param_grid={'metric': ['euclidean', 'manhattan'],\n",
       "                         'n_neighbors': [1, 2, 3, 4, 5, 6, 7, 8, 9, 10, 11, 12,\n",
       "                                         13, 14, 15, 16, 17, 18, 19]},\n",
       "             scoring='accuracy')"
      ]
     },
     "execution_count": 22,
     "metadata": {},
     "output_type": "execute_result"
    }
   ],
   "source": [
    "grid.fit (X_train, y_train)"
   ]
  },
  {
   "cell_type": "code",
   "execution_count": 23,
   "id": "04e9c51c-dd5e-4a91-972f-c9cb6c4df535",
   "metadata": {},
   "outputs": [
    {
     "data": {
      "text/plain": [
       "{'metric': 'manhattan', 'n_neighbors': 16}"
      ]
     },
     "execution_count": 23,
     "metadata": {},
     "output_type": "execute_result"
    }
   ],
   "source": [
    "grid.best_params_"
   ]
  },
  {
   "cell_type": "markdown",
   "id": "4355de0d-4db6-4f5f-a316-8bad7f757323",
   "metadata": {},
   "source": [
    "### Cross Validate Best Model"
   ]
  },
  {
   "cell_type": "code",
   "execution_count": 25,
   "id": "7c72d9c1-bfed-4a08-906c-4b4640c08ce4",
   "metadata": {},
   "outputs": [],
   "source": [
    "from sklearn.metrics import f1_score\n",
    "from sklearn.model_selection import cross_val_score"
   ]
  },
  {
   "cell_type": "code",
   "execution_count": 26,
   "id": "8061cba8-bdfa-4a47-a0bb-f185c48b40d9",
   "metadata": {},
   "outputs": [],
   "source": [
    "best_model = grid.best_estimator_"
   ]
  },
  {
   "cell_type": "code",
   "execution_count": 35,
   "id": "e60b4841-e857-41d0-ad56-8c6c07b38738",
   "metadata": {},
   "outputs": [],
   "source": [
    "scores = cross_val_score (best_model, X_test, y_test, cv=4, scoring='f1_micro')"
   ]
  },
  {
   "cell_type": "code",
   "execution_count": 36,
   "id": "bdafa3e8-7d23-479e-ad8e-240ae2e0fd69",
   "metadata": {},
   "outputs": [
    {
     "data": {
      "text/plain": [
       "0.912621359223301"
      ]
     },
     "execution_count": 36,
     "metadata": {},
     "output_type": "execute_result"
    }
   ],
   "source": [
    "scores.mean()"
   ]
  },
  {
   "cell_type": "markdown",
   "id": "5994be13-ce88-44fb-8ee3-57fed8197142",
   "metadata": {},
   "source": [
    "### Cross Validate \"From Scratch\" Model Using Above Parameters"
   ]
  },
  {
   "cell_type": "code",
   "execution_count": 49,
   "id": "3eb2f42e-590f-4ad8-94e1-047af8ceb5b3",
   "metadata": {},
   "outputs": [],
   "source": [
    "knn_2 = knn_fs(16, 'manhattan')\n"
   ]
  },
  {
   "cell_type": "code",
   "execution_count": 50,
   "id": "fcbfc522-3295-4025-b3a3-a7f04782e58e",
   "metadata": {},
   "outputs": [
    {
     "data": {
      "text/plain": [
       "0.912621359223301"
      ]
     },
     "execution_count": 50,
     "metadata": {},
     "output_type": "execute_result"
    }
   ],
   "source": [
    "scores_fs = cross_val_score (knn_2, X_test.values, y_test.values, cv=4, scoring='f1_micro')\n",
    "scores_fs.mean()"
   ]
  },
  {
   "cell_type": "markdown",
   "id": "0fc21df5-ba94-4ed7-ad5b-726d2c2c7a65",
   "metadata": {},
   "source": [
    "## Conclusion: Absolutely No Difference in Micro Averaged f1-scores"
   ]
  },
  {
   "cell_type": "code",
   "execution_count": null,
   "id": "9e84716e-af58-4046-bce0-3e0ba1d94360",
   "metadata": {},
   "outputs": [],
   "source": []
  }
 ],
 "metadata": {
  "kernelspec": {
   "display_name": "Python 3 (ipykernel)",
   "language": "python",
   "name": "python3"
  },
  "language_info": {
   "codemirror_mode": {
    "name": "ipython",
    "version": 3
   },
   "file_extension": ".py",
   "mimetype": "text/x-python",
   "name": "python",
   "nbconvert_exporter": "python",
   "pygments_lexer": "ipython3",
   "version": "3.10.12"
  }
 },
 "nbformat": 4,
 "nbformat_minor": 5
}
